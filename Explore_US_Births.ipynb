{
 "cells": [
  {
   "cell_type": "code",
   "execution_count": 196,
   "metadata": {
    "collapsed": false
   },
   "outputs": [],
   "source": [
    "Project #1 - Explore US Births\n",
    "# 1: Introduction To The Dataset\n",
    "# 2: Converting Data Into A List Of Lists\n",
    "\n",
    "filename = \"/home/nikhil/US_births_1994-2003_CDC_NCHS.csv\"\n",
    "def read_csv(filename):\n",
    "    text_file = open(filename,'rU').read()\n",
    "    #print text_file\n",
    "    line_split = text_file.split(\"\\n\")\n",
    "    string_list=line_split[1:]\n",
    "    final_list = []\n",
    "    for each_string in string_list:\n",
    "        int_fields = []\n",
    "        string_fields = each_string.split(',')\n",
    "    #print string_fields\n",
    "        for each_value in string_fields:\n",
    "            results = int(each_value)\n",
    "            int_fields.append(results)\n",
    "            final_list.append(int_fields)\n",
    "    return final_list"
   ]
  },
  {
   "cell_type": "code",
   "execution_count": 198,
   "metadata": {
    "collapsed": false
   },
   "outputs": [],
   "source": [
    "cdc_list = read_csv(filename)"
   ]
  },
  {
   "cell_type": "code",
   "execution_count": 205,
   "metadata": {
    "collapsed": false
   },
   "outputs": [
    {
     "data": {
      "text/plain": [
       "[[1994, 1, 1, 6, 8096],\n",
       " [1994, 1, 1, 6, 8096],\n",
       " [1994, 1, 1, 6, 8096],\n",
       " [1994, 1, 1, 6, 8096],\n",
       " [1994, 1, 2, 7, 7772],\n",
       " [1994, 1, 2, 7, 7772],\n",
       " [1994, 1, 2, 7, 7772],\n",
       " [1994, 1, 2, 7, 7772],\n",
       " [1994, 1, 2, 7, 7772],\n",
       " [1994, 1, 3, 1, 10142]]"
      ]
     },
     "execution_count": 205,
     "metadata": {},
     "output_type": "execute_result"
    }
   ],
   "source": [
    "cdc_list[1:11]"
   ]
  },
  {
   "cell_type": "code",
   "execution_count": 345,
   "metadata": {
    "collapsed": false
   },
   "outputs": [],
   "source": [
    "# Calculating Number Of Births Each Month.\n",
    "\n",
    "def month_births(cdc_list):\n",
    "    births_per_month = {}\n",
    "    for each_list in cdc_list:\n",
    "        month = each_list[1]\n",
    "        births = each_list[4]\n",
    "        if month in births_per_month.keys():\n",
    "            births_per_month[month]= births_per_month[month] + births\n",
    "        else:\n",
    "            births_per_month[month] = births\n",
    "    #print \"Number Of Births Each Month:\"\n",
    "    return births_per_month\n",
    "    "
   ]
  },
  {
   "cell_type": "code",
   "execution_count": 346,
   "metadata": {
    "collapsed": false
   },
   "outputs": [],
   "source": [
    "cdc_month_births = month_births(cdc_list)"
   ]
  },
  {
   "cell_type": "code",
   "execution_count": 347,
   "metadata": {
    "collapsed": false
   },
   "outputs": [
    {
     "data": {
      "text/plain": [
       "{1: 16162585,\n",
       " 2: 15090700,\n",
       " 3: 16610345,\n",
       " 4: 15926570,\n",
       " 5: 16754535,\n",
       " 6: 16482650,\n",
       " 7: 17493915,\n",
       " 8: 17629290,\n",
       " 9: 17198490,\n",
       " 10: 16894070,\n",
       " 11: 15858235,\n",
       " 12: 16509300}"
      ]
     },
     "execution_count": 347,
     "metadata": {},
     "output_type": "execute_result"
    }
   ],
   "source": [
    "cdc_month_births"
   ]
  },
  {
   "cell_type": "code",
   "execution_count": 348,
   "metadata": {
    "collapsed": true
   },
   "outputs": [],
   "source": [
    "# 4: Calculating Number Of Births Each Day Of Week.\n",
    "\n",
    "def dow_births(cdc_list):\n",
    "    births_each_day_of_week = {}\n",
    "    for each_list in cdc_list:\n",
    "        day_of_week = each_list[3]\n",
    "        births = each_list[4]\n",
    "        if day_of_week in births_each_day_of_week.keys():\n",
    "            births_each_day_of_week[day_of_week] = births_each_day_of_week[day_of_week] + births\n",
    "        else:\n",
    "            births_each_day_of_week[day_of_week] = births\n",
    "    #print \"Number Of Births Each Day of Week:\"\n",
    "    return births_each_day_of_week\n",
    "    \n",
    "        \n",
    "    \n",
    "    "
   ]
  },
  {
   "cell_type": "code",
   "execution_count": 349,
   "metadata": {
    "collapsed": false
   },
   "outputs": [],
   "source": [
    "cdc_dow_births = dow_births(cdc_list)"
   ]
  },
  {
   "cell_type": "code",
   "execution_count": 350,
   "metadata": {
    "collapsed": false
   },
   "outputs": [
    {
     "data": {
      "text/plain": [
       "{1: 28945830,\n",
       " 2: 32230980,\n",
       " 3: 31614275,\n",
       " 4: 31442145,\n",
       " 5: 31168285,\n",
       " 6: 22810555,\n",
       " 7: 20398615}"
      ]
     },
     "execution_count": 350,
     "metadata": {},
     "output_type": "execute_result"
    }
   ],
   "source": [
    "cdc_day_births"
   ]
  },
  {
   "cell_type": "code",
   "execution_count": 351,
   "metadata": {
    "collapsed": true
   },
   "outputs": [],
   "source": [
    "# Calculating Number Of Births Each Year.\n",
    "\n",
    "def year_births(cdc_list):\n",
    "    births_per_year = {}\n",
    "    for each_list in cdc_list:\n",
    "        year = each_list[0]\n",
    "        births = each_list[4]\n",
    "        if year in births_per_year.keys():\n",
    "            births_per_year[year]= births_per_year[year] + births\n",
    "        else:\n",
    "            births_per_year[year] = births\n",
    "    #print \"Number Of Births Each Year:\"\n",
    "    return births_per_year\n",
    "    "
   ]
  },
  {
   "cell_type": "code",
   "execution_count": 352,
   "metadata": {
    "collapsed": false
   },
   "outputs": [],
   "source": [
    "cdc_year_births = year_births(cdc_list)"
   ]
  },
  {
   "cell_type": "code",
   "execution_count": 353,
   "metadata": {
    "collapsed": true
   },
   "outputs": [],
   "source": [
    "# Calculating Number Of Births Each date of month.\n",
    "\n",
    "def dom_births(cdc_list):\n",
    "    births_each_date_of_month = {}\n",
    "    for each_list in cdc_list:\n",
    "        date_of_month = each_list[2]\n",
    "        births = each_list[4]\n",
    "        if date_of_month in births_each_date_of_month.keys():\n",
    "            births_each_date_of_month[date_of_month] = births_each_date_of_month[date_of_month] + births\n",
    "        else:\n",
    "            births_each_date_of_month[date_of_month] = births\n",
    "    #print \"Number Of Births Each Date of Month:\"\n",
    "    return births_each_date_of_month\n",
    "    "
   ]
  },
  {
   "cell_type": "code",
   "execution_count": 354,
   "metadata": {
    "collapsed": false
   },
   "outputs": [],
   "source": [
    "cdc_dom_births = dom_births(cdc_list)"
   ]
  },
  {
   "cell_type": "code",
   "execution_count": 389,
   "metadata": {
    "collapsed": false
   },
   "outputs": [],
   "source": [
    "# 5: Creating A More General Function.\n",
    "\n",
    "def  calc_counts(data, column_number):\n",
    "    \n",
    "    if (column_number == 0):\n",
    "        births_per_year = {}\n",
    "        for each_list in cdc_list:\n",
    "            year = each_list[0]\n",
    "            births = each_list[4]\n",
    "            if year in births_per_year.keys():\n",
    "                births_per_year[year]= births_per_year[year] + births\n",
    "            else:\n",
    "                births_per_year[year] = births\n",
    "        print \"Number Of Births Each Year:\"\n",
    "        return births_per_year\n",
    "    \n",
    "    if (column_number == 1):\n",
    "        births_per_month = {}\n",
    "        for each_list in cdc_list:\n",
    "            month = each_list[1]\n",
    "            births = each_list[4]\n",
    "            if month in births_per_month.keys():\n",
    "                births_per_month[month]= births_per_month[month] + births\n",
    "            else:\n",
    "                births_per_month[month] = births\n",
    "        print \"Number Of Births Each Month:\"\n",
    "        return births_per_month\n",
    "    \n",
    "    if (column_number == 2):\n",
    "        births_each_date_of_month = {}\n",
    "        for each_list in cdc_list:\n",
    "            date_of_month = each_list[2]\n",
    "            births = each_list[4]\n",
    "            if date_of_month in births_each_date_of_month.keys():\n",
    "                births_each_date_of_month[date_of_month] = births_each_date_of_month[date_of_month] + births\n",
    "            else:\n",
    "                births_each_date_of_month[date_of_month] = births\n",
    "        print \"Number Of Births Each Date of Month:\"\n",
    "        return births_each_date_of_month\n",
    "\n",
    "    if (column_number == 3):\n",
    "        births_each_day_of_week = {}\n",
    "        for each_list in cdc_list:\n",
    "            day_of_week = each_list[3]\n",
    "            births = each_list[4]\n",
    "            if day_of_week in births_each_day_of_week.keys():\n",
    "                births_each_day_of_week[day_of_week] = births_each_day_of_week[day_of_week] + births\n",
    "            else:\n",
    "                births_each_day_of_week[day_of_week] = births\n",
    "        print \"Number Of Births Each Day of Week:\"\n",
    "        return births_each_day_of_week\n",
    "\n"
   ]
  },
  {
   "cell_type": "code",
   "execution_count": 393,
   "metadata": {
    "collapsed": false
   },
   "outputs": [
    {
     "name": "stdout",
     "output_type": "stream",
     "text": [
      "Number Of Births Each Day of Week:\n"
     ]
    },
    {
     "data": {
      "text/plain": [
       "{1: 28945830,\n",
       " 2: 32230980,\n",
       " 3: 31614275,\n",
       " 4: 31442145,\n",
       " 5: 31168285,\n",
       " 6: 22810555,\n",
       " 7: 20398615}"
      ]
     },
     "execution_count": 393,
     "metadata": {},
     "output_type": "execute_result"
    }
   ],
   "source": [
    "calc_counts(cdc_list, 3)"
   ]
  },
  {
   "cell_type": "code",
   "execution_count": null,
   "metadata": {
    "collapsed": true
   },
   "outputs": [],
   "source": []
  },
  {
   "cell_type": "code",
   "execution_count": null,
   "metadata": {
    "collapsed": true
   },
   "outputs": [],
   "source": []
  }
 ],
 "metadata": {
  "kernelspec": {
   "display_name": "Python 2",
   "language": "python",
   "name": "python2"
  },
  "language_info": {
   "codemirror_mode": {
    "name": "ipython",
    "version": 2
   },
   "file_extension": ".py",
   "mimetype": "text/x-python",
   "name": "python",
   "nbconvert_exporter": "python",
   "pygments_lexer": "ipython2",
   "version": "2.7.13"
  }
 },
 "nbformat": 4,
 "nbformat_minor": 2
}
